{
 "cells": [
  {
   "cell_type": "code",
   "execution_count": 1,
   "id": "f0f4aee0-d2d6-449c-b7d0-72bfda141462",
   "metadata": {},
   "outputs": [],
   "source": [
    "import numpy as np\n",
    "import matplotlib.pyplot as plt\n",
    "import pointCollection as pc\n",
    "import scipy.sparse as sp\n",
    "from LSsurf import RDE"
   ]
  },
  {
   "cell_type": "code",
   "execution_count": 2,
   "id": "3e0e7592-a3c3-4be3-8e43-8f3a3d1409f3",
   "metadata": {},
   "outputs": [],
   "source": [
    "%load_ext autoreload\n",
    "%autoreload 2"
   ]
  },
  {
   "cell_type": "code",
   "execution_count": 3,
   "id": "387fd220-b798-4a21-8ff4-55fa8193ea14",
   "metadata": {},
   "outputs": [],
   "source": [
    "%matplotlib widget"
   ]
  },
  {
   "cell_type": "code",
   "execution_count": 73,
   "id": "9d0efe5b-18c0-45ed-a31d-d500da2a5a89",
   "metadata": {},
   "outputs": [],
   "source": [
    "def read_xovers(file, fields=['x','y','delta_time','h_li','h_li_sigma','spot', 'rgt', 'dh_fit_dx','dh_fit_dy','atl06_quality_summary']):\n",
    "\n",
    "    m = pc.data().from_h5(file, field_dict={None:['grounded','x','y','slope_x','slope_y']})\n",
    "    v=pc.data(columns=2)\n",
    "    data = [pc.data().from_h5(file, field_dict={group:fields+['W']}) for group in ['data_0','data_1']]\n",
    "    \n",
    "    d=pc.data()\n",
    "    for field in fields:\n",
    "        if field=='W':\n",
    "            continue\n",
    "        temp = np.zeros((m.size, 2))\n",
    "        for col in [0, 1]:\n",
    "            temp[:, col] = np.sum(data[col].W * getattr(data[col], field), axis=1)\n",
    "        \n",
    "        if field in ['rgt','cycle','spot']:\n",
    "            # integer fields:\n",
    "            v.assign({ field : np.round(temp).astype(int)})\n",
    "        else:\n",
    "            v.assign({ field : temp})\n",
    "            \n",
    "        d.assign({ field : np.diff(temp, axis=1)})\n",
    "    for item in [v, d]:\n",
    "        item.__update_size_and_shape__()\n",
    "    \n",
    "    return v, d, m, data\n",
    "\n"
   ]
  },
  {
   "cell_type": "code",
   "execution_count": 74,
   "id": "8b60d590-27d1-444f-a55c-a0b0efa82340",
   "metadata": {},
   "outputs": [],
   "source": [
    "v, d, m, D = read_xovers('/Users/ben/Data/xovers/v005/cxx/c08/E200000_N0.h5')"
   ]
  },
  {
   "cell_type": "code",
   "execution_count": 76,
   "id": "9321600b-8461-4281-a6ba-3f2929242b91",
   "metadata": {},
   "outputs": [
    {
     "data": {
      "text/plain": [
       "2"
      ]
     },
     "execution_count": 76,
     "metadata": {},
     "output_type": "execute_result"
    }
   ],
   "source": [
    "v.columns"
   ]
  },
  {
   "cell_type": "code",
   "execution_count": 78,
   "id": "2059fac9-bc9b-4b6c-964d-6a4d1b9b9128",
   "metadata": {},
   "outputs": [],
   "source": [
    "def calc_biases(d, v, ind):\n",
    "    v1=v[ind]\n",
    "    d1=d[ind]\n",
    "    m1=m[ind]\n",
    "\n",
    "    uS, iS=np.unique(v1.spot, return_inverse=True)\n",
    "    uT, iT=np.unique(v1.rgt,  return_inverse=True)\n",
    "    row=np.arange(v1.shape[0])\n",
    "    G_sp=sp.coo_matrix((np.c_[-np.ones(v1.shape[0]), np.ones(v1.shape[0])].ravel(),(np.c_[row, row].ravel(), iS.ravel())))\n",
    "    G_rgt=sp.coo_matrix((np.c_[-np.ones(v1.shape[0]), np.ones(v1.shape[0])].ravel(),(np.c_[row, row].ravel(), iT.ravel())))\n",
    "    G_sp_mean=sp.coo_matrix((np.r_[np.ones(len(uS)), np.zeros(len(uT))],\n",
    "                              (np.zeros(len(uS)+len(uT), dtype=int), \n",
    "                                np.arange(len(uS)+len(uT), dtype=int)))) \n",
    "    G_rgt_mean=sp.coo_matrix((np.r_[np.zeros(len(uS)), np.ones(len(uT))],\n",
    "                              (np.zeros(len(uS)+len(uT), dtype=int), \n",
    "                                np.arange(len(uS)+len(uT), dtype=int)))) \n",
    "\n",
    "\n",
    "    G=sp.vstack([sp.hstack([G_sp, G_rgt]), G_sp_mean, G_rgt_mean, 0.0001*sp.eye(len(uS)+len(uT))])\n",
    "    G=G.tocsr()\n",
    "    data=np.r_[d1.h_li.ravel(), np.zeros(G.shape[0]-d1.shape[0])]\n",
    "    r=np.zeros(d1.shape[0])\n",
    "    good=np.ones(G.shape[0], dtype=bool)\n",
    "    last_good=np.zeros_like(good)\n",
    "    sigma=1.e4\n",
    "    n_data=d1.shape[0]\n",
    "    while np.sum(np.logical_xor(good,last_good))>0:\n",
    "        ii=np.flatnonzero(good)\n",
    "        mm=sp.linalg.spsolve(G[ii,:].T.dot(G[ii,:]), G[ii,:].T.dot(data[ii]))\n",
    "        r=d1.h_li.ravel()-G[0:d1.size,:].dot(mm)\n",
    "        sigma=RDE(np.abs(r[ii[ii<n_data]]))\n",
    "        last_good=good\n",
    "        good=np.ones(G.shape[0], dtype=bool)\n",
    "        good[np.argwhere(np.abs(r)>3*sigma)]=False\n",
    "    b_spot=np.zeros(6)+np.NaN\n",
    "    for ind,spot in enumerate(uS):\n",
    "        b_spot[int(spot)-1]=mm[ind]\n",
    "    b_rgt = np.zeros(1387)+np.NaN\n",
    "    for ind, rgt in enumerate(uT):\n",
    "        b_rgt[int(rgt)-1]=mm[len(uS)+ind]\n",
    "    #tbar=np.mean(v1.delta_time)\n",
    "    return b_spot, b_rgt, sigma"
   ]
  },
  {
   "cell_type": "code",
   "execution_count": 80,
   "id": "7884bb05-16cd-4fd1-82d9-e706b21aba93",
   "metadata": {},
   "outputs": [],
   "source": [
    "dt=10*24*3600\n",
    "t_vals=np.arange(np.min(v.delta_time)+dt/2, np.max(v.delta_time), dt/2)\n",
    "b_spot=np.zeros((len(t_vals), 6))+np.NaN\n",
    "b_rgt=np.zeros((len(t_vals), 1387))+np.NaN\n",
    "sigma=np.zeros(len(t_vals))+np.NaN\n",
    "tbar=np.zeros(len(t_vals))+np.NaN\n",
    "for it, ti in enumerate(t_vals):\n",
    "    ii = np.all(np.abs(v.delta_time-ti)<dt/2, axis=1)\n",
    "    if np.sum(ii)>10:\n",
    "        b_spot[it,:], b_rgt[it,:], sigma[it]=calc_biases(d, v, np.argwhere(ii))"
   ]
  },
  {
   "cell_type": "code",
   "execution_count": 77,
   "id": "9af3a7a0-dcfd-4621-96dc-82ea5216f36f",
   "metadata": {},
   "outputs": [],
   "source": [
    "ind=ii\n",
    "if True:\n",
    "    v1=v[ind]\n",
    "    d1=d[ind]\n",
    "    m1=m[ind]\n",
    "\n",
    "    uS, iS=np.unique(v1.spot, return_inverse=True)\n",
    "    uT, iT=np.unique(v1.rgt,  return_inverse=True)\n",
    "    row=np.arange(v1.shape[0])\n",
    "    G_sp=sp.coo_matrix((np.c_[-np.ones(v1.shape[0]), np.ones(v1.shape[0])].ravel(),(np.c_[row, row].ravel(), iS.ravel())))\n"
   ]
  },
  {
   "cell_type": "code",
   "execution_count": 81,
   "id": "739fe363-1390-4fca-b116-4cc696e727ef",
   "metadata": {},
   "outputs": [
    {
     "data": {
      "application/vnd.jupyter.widget-view+json": {
       "model_id": "8eefeb9ae86241ccb8befb0cf1fdf706",
       "version_major": 2,
       "version_minor": 0
      },
      "text/plain": [
       "Canvas(toolbar=Toolbar(toolitems=[('Home', 'Reset original view', 'home', 'home'), ('Back', 'Back to previous …"
      ]
     },
     "metadata": {},
     "output_type": "display_data"
    },
    {
     "data": {
      "text/plain": [
       "<matplotlib.legend.Legend at 0x13e7e5190>"
      ]
     },
     "execution_count": 81,
     "metadata": {},
     "output_type": "execute_result"
    }
   ],
   "source": [
    "plt.figure(); plt.plot(b_spot)\n",
    "plt.legend(['spot '+str(ii) for ii in range(1, 7)])"
   ]
  },
  {
   "cell_type": "code",
   "execution_count": 82,
   "id": "919c9744-00f7-42c0-811b-1764566c6f87",
   "metadata": {},
   "outputs": [
    {
     "data": {
      "application/vnd.jupyter.widget-view+json": {
       "model_id": "ef70251eb36b42498e4cd6e7d91b2f8c",
       "version_major": 2,
       "version_minor": 0
      },
      "text/plain": [
       "Canvas(toolbar=Toolbar(toolitems=[('Home', 'Reset original view', 'home', 'home'), ('Back', 'Back to previous …"
      ]
     },
     "metadata": {},
     "output_type": "display_data"
    }
   ],
   "source": [
    "plt.clf(); plt.hist(np.nanmax(b_rgt, axis=0)-np.nanmin(b_rgt, axis=0), 20);\n",
    "plt.figure(); plt.hist(np.nanmean(b_rgt, axis=0), 20);"
   ]
  },
  {
   "cell_type": "code",
   "execution_count": null,
   "id": "b3545f09-39b9-41dc-a4a4-e28801e8aedc",
   "metadata": {},
   "outputs": [],
   "source": [
    "plt.figure(); \n",
    "plt.scatter(v.x, v.y, 2, c=v.delta_time/24/3600/365.25+2018, cmap='jet'); \n",
    "plt.colorbar()"
   ]
  },
  {
   "cell_type": "code",
   "execution_count": null,
   "id": "098766f1-1da9-4f46-a9db-d0fba16291f9",
   "metadata": {},
   "outputs": [],
   "source": [
    "good=np.all(np.abs(v.x+1j*v.y)<1.e8, axis=1)\n",
    "np.sum(good)"
   ]
  },
  {
   "cell_type": "code",
   "execution_count": null,
   "id": "88492f40-f099-4693-bbaa-b51495221f16",
   "metadata": {},
   "outputs": [],
   "source": [
    "data[0].W"
   ]
  },
  {
   "cell_type": "code",
   "execution_count": null,
   "id": "3840676c-d989-4a2c-90e2-d17a04098dc2",
   "metadata": {},
   "outputs": [],
   "source": [
    "v"
   ]
  },
  {
   "cell_type": "code",
   "execution_count": null,
   "id": "77f88a69-c6a9-420a-a1af-5c44e858f9bf",
   "metadata": {},
   "outputs": [],
   "source": []
  }
 ],
 "metadata": {
  "kernelspec": {
   "display_name": "Python 3 (ipykernel)",
   "language": "python",
   "name": "python3"
  },
  "language_info": {
   "codemirror_mode": {
    "name": "ipython",
    "version": 3
   },
   "file_extension": ".py",
   "mimetype": "text/x-python",
   "name": "python",
   "nbconvert_exporter": "python",
   "pygments_lexer": "ipython3",
   "version": "3.9.6"
  }
 },
 "nbformat": 4,
 "nbformat_minor": 5
}
